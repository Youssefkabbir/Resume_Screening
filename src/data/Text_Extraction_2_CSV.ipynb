{
 "cells": [
  {
   "cell_type": "markdown",
   "id": "03d07668-330e-4688-a273-19c225ff18e2",
   "metadata": {},
   "source": [
    "# Import the necessary Librairies"
   ]
  },
  {
   "cell_type": "code",
   "execution_count": 19,
   "id": "6a621839-eba5-4c6d-8481-a46dd5a655b6",
   "metadata": {
    "tags": []
   },
   "outputs": [],
   "source": [
    "\"\"\"This module provides a portable way of using operating system dependent functionality. If you\n",
    "just want to read or write a file see open(), if you want to manipulate paths, see the os.path \n",
    "module, and if you want to read all the lines in all the files on the command line see the \n",
    "fileinput module\"\"\"\n",
    "import os\n",
    "\"\"\"\n",
    "pdfplumber is a powerful library that allows for easy extraction of text and data from PDFs, \n",
    "making it a valuable tool for data analysis and automation tasks.\n",
    "\"\"\"\n",
    "import pdfplumber\n",
    "\"\"\"The Natural Language Toolkit (NLTK) is an open source Python library for Natural Language Processing\"\"\"\n",
    "import nltk\n",
    "from nltk.corpus import stopwords\n",
    "\"\"\"scikit-learn is a Python module for machine learning built on top of SciPy and is distributed\n",
    "under the 3-Clause BSD license.\"\"\"\n",
    "from sklearn.feature_extraction.text import TfidfVectorizer\n",
    "from sklearn.metrics.pairwise import cosine_similarity\n",
    "import pandas as pd\n",
    "\n",
    "from pdfquery import PDFQuery\n",
    "# Define the directory containing your PDF files\n",
    "pdf_directory=r\"C:\\Users\\kabir\\Desktop\\Projects\\Resume_Screening\\data\\raw\\data\""
   ]
  },
  {
   "cell_type": "code",
   "execution_count": null,
   "id": "9be9ed23-cc6d-4802-810b-ac1e173fd522",
   "metadata": {
    "tags": []
   },
   "outputs": [],
   "source": [
    "\n",
    "# Initialize an empty list to store the extracted resume data\n",
    "resume_data = []\n",
    "\n",
    "# Iterate through subdirectories (categories) in the specified directory\n",
    "for category in os.listdir(pdf_directory):\n",
    "    category_path = os.path.join(pdf_directory, category)\n",
    "    if os.path.isdir(category_path):\n",
    "        for pdf_file in os.listdir(category_path):\n",
    "            if pdf_file.lower().endswith(\".pdf\"):\n",
    "                pdf_path = os.path.join(category_path, pdf_file)\n",
    "                try:\n",
    "                    # Load the PDF using PDFQuery\n",
    "                    pdf = PDFQuery(pdf_path)\n",
    "                    pdf.load()\n",
    "\n",
    "                    # Extract text elements from the PDF\n",
    "                    text_elements = pdf.pq(\"LTTextLineHorizontal\")\n",
    "                    resume_text = \" \".join([t.text for t in text_elements])\n",
    "\n",
    "                    # Append the extracted data to the list\n",
    "                    resume_data.append({\"Category\": category, \"Resume Text\": resume_text})\n",
    "                except Exception as e:\n",
    "                    # Handle any errors during processing\n",
    "                    print(f\"Error processing {pdf_file}: {e}\")\n",
    "\n"
   ]
  },
  {
   "cell_type": "code",
   "execution_count": null,
   "id": "66a4185e-c12d-4d33-a3c4-a9e7a29845ae",
   "metadata": {},
   "outputs": [],
   "source": [
    "# Create a DataFrame from the list of resume data\n",
    "resume_df = pd.DataFrame(resume_data)\n",
    "Path_csv_data=r\"C:\\Users\\kabir\\Desktop\\Projects\\Resume_Screening\\data\\intermediate\\Resumes.csv\"\n",
    "# Save the data to a CSV file named 'resumes.csv'\n",
    "resume_df.to_csv(Path_csv_data, index=False)\n",
    "\n",
    "# Print a success message\n",
    "print(\"Data extraction and CSV creation completed successfully!\")\n"
   ]
  }
 ],
 "metadata": {
  "kernelspec": {
   "display_name": "Python 3 (ipykernel)",
   "language": "python",
   "name": "python3"
  },
  "language_info": {
   "codemirror_mode": {
    "name": "ipython",
    "version": 3
   },
   "file_extension": ".py",
   "mimetype": "text/x-python",
   "name": "python",
   "nbconvert_exporter": "python",
   "pygments_lexer": "ipython3",
   "version": "3.9.17"
  }
 },
 "nbformat": 4,
 "nbformat_minor": 5
}
